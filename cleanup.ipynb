{
 "cells": [
  {
   "cell_type": "code",
   "execution_count": 34,
   "id": "a8cd0abb",
   "metadata": {},
   "outputs": [],
   "source": [
    "from pyspark.sql import SparkSession, catalog\n",
    "\n",
    "\n",
    "import getpass\n",
    "username = getpass.getuser()\n",
    "\n",
    "spark = SparkSession. \\\n",
    "    builder. \\\n",
    "    config('spark.ui.port', '0'). \\\n",
    "    config(\"spark.sql.warehouse.dir\", f\"/user/{username}/warehouse\"). \\\n",
    "    enableHiveSupport(). \\\n",
    "    appName(f'{username} | Bikewise'). \\\n",
    "    master('yarn'). \\\n",
    "    getOrCreate()"
   ]
  },
  {
   "cell_type": "code",
   "execution_count": 24,
   "id": "1e12cda2",
   "metadata": {},
   "outputs": [
    {
     "data": {
      "text/html": [
       "<table border='1'>\n",
       "<tr><th></th></tr>\n",
       "</table>\n"
      ],
      "text/plain": [
       "++\n",
       "||\n",
       "++\n",
       "++"
      ]
     },
     "execution_count": 24,
     "metadata": {},
     "output_type": "execute_result"
    }
   ],
   "source": [
    "# spark.sql(f'drop database if exists {username}_bikewise_raw cascade')"
   ]
  },
  {
   "cell_type": "code",
   "execution_count": 25,
   "id": "ec97d211",
   "metadata": {},
   "outputs": [
    {
     "data": {
      "text/html": [
       "<table border='1'>\n",
       "<tr><th></th></tr>\n",
       "</table>\n"
      ],
      "text/plain": [
       "++\n",
       "||\n",
       "++\n",
       "++"
      ]
     },
     "execution_count": 25,
     "metadata": {},
     "output_type": "execute_result"
    }
   ],
   "source": [
    "# spark.sql(f'drop database if exists {username}_bikewise_initial cascade')"
   ]
  },
  {
   "cell_type": "code",
   "execution_count": 26,
   "id": "c286aab0",
   "metadata": {},
   "outputs": [
    {
     "data": {
      "text/html": [
       "<table border='1'>\n",
       "<tr><th></th></tr>\n",
       "</table>\n"
      ],
      "text/plain": [
       "++\n",
       "||\n",
       "++\n",
       "++"
      ]
     },
     "execution_count": 26,
     "metadata": {},
     "output_type": "execute_result"
    }
   ],
   "source": [
    "# spark.sql(f'drop database if exists {username}_bikewise_final cascade')"
   ]
  },
  {
   "cell_type": "code",
   "execution_count": 35,
   "id": "4e56f82f",
   "metadata": {},
   "outputs": [
    {
     "name": "stdout",
     "output_type": "stream",
     "text": [
      "Found 9 items\n",
      "drwxr-xr-x   - itv000579 supergroup          0 2021-06-22 16:01 /user/itv000579/warehouse/itv000579_airtraffic.db\n",
      "drwxr-xr-x   - itv000579 supergroup          0 2021-07-01 01:57 /user/itv000579/warehouse/itv000579_bikewise_final.db\n",
      "drwxr-xr-x   - itv000579 supergroup          0 2021-07-01 01:57 /user/itv000579/warehouse/itv000579_bikewise_initial.db\n",
      "drwxr-xr-x   - itv000579 supergroup          0 2021-07-01 01:57 /user/itv000579/warehouse/itv000579_bikewise_raw.db\n",
      "drwxr-xr-x   - itv000579 supergroup          0 2021-06-26 05:44 /user/itv000579/warehouse/itv000579_demo.db\n",
      "drwxr-xr-x   - itv000579 supergroup          0 2021-06-28 03:10 /user/itv000579/warehouse/itv000579_hr.db\n",
      "drwxr-xr-x   - itv000579 supergroup          0 2021-06-22 15:56 /user/itv000579/warehouse/itv000579_hr_db.db\n",
      "drwxr-xr-x   - itv000579 supergroup          0 2021-06-26 00:49 /user/itv000579/warehouse/itv000579_nyse.db\n",
      "drwxr-xr-x   - itv000579 supergroup          0 2021-06-27 15:40 /user/itv000579/warehouse/itv000579_retail.db\n"
     ]
    }
   ],
   "source": [
    "%%sh\n",
    "\n",
    "hdfs dfs -ls /user/${USER}/warehouse/"
   ]
  },
  {
   "cell_type": "code",
   "execution_count": 28,
   "id": "decffb85",
   "metadata": {},
   "outputs": [
    {
     "name": "stdout",
     "output_type": "stream",
     "text": [
      "Deleted /user/itv000579/bikewise/raw\n"
     ]
    }
   ],
   "source": [
    "# %%sh\n",
    "\n",
    "# hdfs dfs -rm -r -skipTrash /user/${USER}/bikewise/raw/"
   ]
  },
  {
   "cell_type": "code",
   "execution_count": 29,
   "id": "7907fb60",
   "metadata": {},
   "outputs": [
    {
     "name": "stdout",
     "output_type": "stream",
     "text": [
      "Deleted /user/itv000579/bikewise/initial\n"
     ]
    }
   ],
   "source": [
    "# %%sh\n",
    "\n",
    "# hdfs dfs -rm -r -skipTrash /user/${USER}/bikewise/initial/"
   ]
  },
  {
   "cell_type": "code",
   "execution_count": 31,
   "id": "4f5561b9",
   "metadata": {},
   "outputs": [],
   "source": [
    "# %%sh\n",
    "\n",
    "# hdfs dfs -rm -r -skipTrash /user/${USER}/bikewise/final/"
   ]
  },
  {
   "cell_type": "code",
   "execution_count": 36,
   "id": "e133adbd",
   "metadata": {},
   "outputs": [
    {
     "name": "stdout",
     "output_type": "stream",
     "text": [
      "drwxr-xr-x   - itv000579 supergroup          0 2021-07-01 01:57 /user/itv000579/bikewise/final\n",
      "drwxr-xr-x   - itv000579 supergroup          0 2021-07-01 01:57 /user/itv000579/bikewise/initial\n",
      "drwxr-xr-x   - itv000579 supergroup          0 2021-07-01 01:57 /user/itv000579/bikewise/initial/2021-07-01\n",
      "-rw-r--r--   3 itv000579 supergroup          0 2021-07-01 01:57 /user/itv000579/bikewise/initial/2021-07-01/_SUCCESS\n",
      "-rw-r--r--   3 itv000579 supergroup       5159 2021-07-01 01:57 /user/itv000579/bikewise/initial/2021-07-01/part-00000-40f15092-8902-4fa0-8ce8-cfb395d077a4-c000.json\n",
      "drwxr-xr-x   - itv000579 supergroup          0 2021-07-01 01:57 /user/itv000579/bikewise/raw\n",
      "drwxr-xr-x   - itv000579 supergroup          0 2021-07-01 01:57 /user/itv000579/bikewise/raw/2021-07-01\n",
      "-rw-r--r--   3 itv000579 supergroup      11082 2021-07-01 01:57 /user/itv000579/bikewise/raw/2021-07-01/2021-07-01.json\n"
     ]
    }
   ],
   "source": [
    "%%sh\n",
    "\n",
    "hdfs dfs -ls -R /user/${USER}/bikewise/"
   ]
  },
  {
   "cell_type": "code",
   "execution_count": null,
   "id": "df0e5f23",
   "metadata": {},
   "outputs": [],
   "source": [
    "# from pyspark.sql.functions import *"
   ]
  },
  {
   "cell_type": "code",
   "execution_count": null,
   "id": "926d431a",
   "metadata": {},
   "outputs": [],
   "source": [
    "# df = spark. \\\n",
    "#     read. \\\n",
    "#     json(f'/user/{username}/bikewise/raw/2021-06-30/2021-06-30.json'). \\\n",
    "#     withColumn('day', lit(29))"
   ]
  },
  {
   "cell_type": "code",
   "execution_count": null,
   "id": "9bf6f782",
   "metadata": {},
   "outputs": [],
   "source": [
    "# df"
   ]
  },
  {
   "cell_type": "code",
   "execution_count": null,
   "id": "0263538a",
   "metadata": {},
   "outputs": [],
   "source": [
    "# %%sh\n",
    "\n",
    "# hdfs dfs -mkdir -p /user/${USER}/bikewise/raw/"
   ]
  },
  {
   "cell_type": "code",
   "execution_count": null,
   "id": "98d4e3fc",
   "metadata": {},
   "outputs": [],
   "source": [
    "# %%sh\n",
    "\n",
    "# hdfs dfs -ls -R /user/${USER}/warehouse/${USER}_bikewise_raw.db"
   ]
  },
  {
   "cell_type": "code",
   "execution_count": 37,
   "id": "0c6b3ff4",
   "metadata": {},
   "outputs": [
    {
     "name": "stdout",
     "output_type": "stream",
     "text": [
      "+-------------------------+\n",
      "|partition                |\n",
      "+-------------------------+\n",
      "|year=2021/month=07/day=01|\n",
      "+-------------------------+\n",
      "\n"
     ]
    }
   ],
   "source": [
    "spark.sql(f'show partitions {username}_bikewise_raw.incidents_raw').show(truncate = False)"
   ]
  },
  {
   "cell_type": "code",
   "execution_count": 38,
   "id": "3d695883",
   "metadata": {},
   "outputs": [
    {
     "data": {
      "text/html": [
       "<table border='1'>\n",
       "<tr><th>count(1)</th></tr>\n",
       "<tr><td>8</td></tr>\n",
       "</table>\n"
      ],
      "text/plain": [
       "+--------+\n",
       "|count(1)|\n",
       "+--------+\n",
       "|       8|\n",
       "+--------+"
      ]
     },
     "execution_count": 38,
     "metadata": {},
     "output_type": "execute_result"
    }
   ],
   "source": [
    "spark.sql(f'select count(*) from {username}_bikewise_raw.incidents_raw')"
   ]
  },
  {
   "cell_type": "code",
   "execution_count": null,
   "id": "1e64db36",
   "metadata": {},
   "outputs": [],
   "source": [
    "# spark.sql(f'select * from {username}_bikewise_raw.incidents_raw')"
   ]
  },
  {
   "cell_type": "code",
   "execution_count": null,
   "id": "1d18b852",
   "metadata": {},
   "outputs": [],
   "source": [
    "# %%sh\n",
    "\n",
    "# hdfs dfs -rm -R -skipTrash /user/${USER}/warehouse/${USER}_bikewise_raw.db/incidents_raw"
   ]
  },
  {
   "cell_type": "code",
   "execution_count": null,
   "id": "86e6f313",
   "metadata": {},
   "outputs": [],
   "source": [
    "# %%sh\n",
    "\n",
    "# hdfs dfs -rm -r -skipTrash /user/${USER}/bikewise/initial/"
   ]
  },
  {
   "cell_type": "code",
   "execution_count": 39,
   "id": "d458fd52",
   "metadata": {},
   "outputs": [
    {
     "name": "stdout",
     "output_type": "stream",
     "text": [
      "drwxr-xr-x   - itv000579 supergroup          0 2021-07-01 01:57 /user/itv000579/warehouse/itv000579_bikewise_initial.db/incidents_initial\n",
      "-rw-r--r--   3 itv000579 supergroup          0 2021-07-01 01:57 /user/itv000579/warehouse/itv000579_bikewise_initial.db/incidents_initial/_SUCCESS\n",
      "drwxr-xr-x   - itv000579 supergroup          0 2021-07-01 01:57 /user/itv000579/warehouse/itv000579_bikewise_initial.db/incidents_initial/year=2021\n",
      "drwxr-xr-x   - itv000579 supergroup          0 2021-07-01 01:57 /user/itv000579/warehouse/itv000579_bikewise_initial.db/incidents_initial/year=2021/month=07\n",
      "drwxr-xr-x   - itv000579 supergroup          0 2021-07-01 01:57 /user/itv000579/warehouse/itv000579_bikewise_initial.db/incidents_initial/year=2021/month=07/day=01\n",
      "-rw-r--r--   3 itv000579 supergroup       6234 2021-07-01 01:57 /user/itv000579/warehouse/itv000579_bikewise_initial.db/incidents_initial/year=2021/month=07/day=01/part-00000-1e1edbe9-2b47-40df-ba03-7675869ba5cf.c000.snappy.parquet\n"
     ]
    }
   ],
   "source": [
    "%%sh\n",
    "\n",
    "hdfs dfs -ls -R /user/${USER}/warehouse/${USER}_bikewise_initial.db"
   ]
  },
  {
   "cell_type": "code",
   "execution_count": 40,
   "id": "6a27900a",
   "metadata": {},
   "outputs": [
    {
     "name": "stdout",
     "output_type": "stream",
     "text": [
      "+-------------------------+\n",
      "|partition                |\n",
      "+-------------------------+\n",
      "|year=2021/month=07/day=01|\n",
      "+-------------------------+\n",
      "\n"
     ]
    }
   ],
   "source": [
    "spark.sql(f'show partitions {username}_bikewise_initial.incidents_initial').show(truncate = False)"
   ]
  },
  {
   "cell_type": "code",
   "execution_count": 41,
   "id": "3c72625c",
   "metadata": {},
   "outputs": [
    {
     "data": {
      "text/html": [
       "<table border='1'>\n",
       "<tr><th>count(1)</th></tr>\n",
       "<tr><td>8</td></tr>\n",
       "</table>\n"
      ],
      "text/plain": [
       "+--------+\n",
       "|count(1)|\n",
       "+--------+\n",
       "|       8|\n",
       "+--------+"
      ]
     },
     "execution_count": 41,
     "metadata": {},
     "output_type": "execute_result"
    }
   ],
   "source": [
    "spark.sql(f'select count(*) from {username}_bikewise_initial.incidents_initial')"
   ]
  },
  {
   "cell_type": "code",
   "execution_count": 42,
   "id": "1b259c5a",
   "metadata": {},
   "outputs": [
    {
     "data": {
      "text/html": [
       "<table border='1'>\n",
       "<tr><th>id</th><th>type</th><th>title</th><th>description</th><th>location_type</th><th>location_description</th><th>image_url</th><th>occurred_at</th><th>updated_at</th><th>type_properties</th><th>year</th><th>month</th><th>day</th></tr>\n",
       "<tr><td>144514</td><td>Hazard</td><td>Shared Scooter or...</td><td>Scooter locked to...</td><td>null</td><td>null</td><td>https://seeclickf...</td><td>1625111502</td><td>1625117273</td><td>null</td><td>2021</td><td>07</td><td>01</td></tr>\n",
       "<tr><td>144515</td><td>Hazard</td><td>Shared Scooter or...</td><td>Heard the screami...</td><td>null</td><td>null</td><td>https://seeclickf...</td><td>1625111051</td><td>1625117273</td><td>null</td><td>2021</td><td>07</td><td>01</td></tr>\n",
       "<tr><td>144516</td><td>Hazard</td><td>Shared Scooter or...</td><td>Scooter leaning o...</td><td>null</td><td>null</td><td>https://seeclickf...</td><td>1625110585</td><td>1625118058</td><td>null</td><td>2021</td><td>07</td><td>01</td></tr>\n",
       "<tr><td>144513</td><td>Hazard</td><td>Shared Scooter or...</td><td>Four scooters loc...</td><td>null</td><td>null</td><td>https://seeclickf...</td><td>1625109544</td><td>1625112893</td><td>null</td><td>2021</td><td>07</td><td>01</td></tr>\n",
       "<tr><td>144446</td><td>Theft</td><td>Stolen 2020 Firef...</td><td>Male snuck up and...</td><td>null</td><td>null</td><td>https://files.bik...</td><td>1625106000</td><td>1625074007</td><td>null</td><td>2021</td><td>07</td><td>01</td></tr>\n",
       "<tr><td>144511</td><td>Unconfirmed</td><td>Other</td><td>bike on sidewalk....</td><td>null</td><td>null</td><td>https://seeclickf...</td><td>1625105199</td><td>1625110071</td><td>null</td><td>2021</td><td>07</td><td>01</td></tr>\n",
       "<tr><td>144512</td><td>Unconfirmed</td><td>Suspected Illegal...</td><td>Second level stai...</td><td>null</td><td>null</td><td>https://seeclickf...</td><td>1625104983</td><td>1625110859</td><td>null</td><td>2021</td><td>07</td><td>01</td></tr>\n",
       "<tr><td>144510</td><td>Hazard</td><td>Illegal Vehicle o...</td><td>Dirt bikes and ot...</td><td>null</td><td>null</td><td>null</td><td>1625100461</td><td>1625108026</td><td>null</td><td>2021</td><td>07</td><td>01</td></tr>\n",
       "</table>\n"
      ],
      "text/plain": [
       "+------+-----------+--------------------+--------------------+-------------+--------------------+--------------------+-----------+----------+---------------+----+-----+---+\n",
       "|    id|       type|               title|         description|location_type|location_description|           image_url|occurred_at|updated_at|type_properties|year|month|day|\n",
       "+------+-----------+--------------------+--------------------+-------------+--------------------+--------------------+-----------+----------+---------------+----+-----+---+\n",
       "|144514|     Hazard|Shared Scooter or...|Scooter locked to...|         null|                null|https://seeclickf...| 1625111502|1625117273|           null|2021|   07| 01|\n",
       "|144515|     Hazard|Shared Scooter or...|Heard the screami...|         null|                null|https://seeclickf...| 1625111051|1625117273|           null|2021|   07| 01|\n",
       "|144516|     Hazard|Shared Scooter or...|Scooter leaning o...|         null|                null|https://seeclickf...| 1625110585|1625118058|           null|2021|   07| 01|\n",
       "|144513|     Hazard|Shared Scooter or...|Four scooters loc...|         null|                null|https://seeclickf...| 1625109544|1625112893|           null|2021|   07| 01|\n",
       "|144446|      Theft|Stolen 2020 Firef...|Male snuck up and...|         null|                null|https://files.bik...| 1625106000|1625074007|           null|2021|   07| 01|\n",
       "|144511|Unconfirmed|               Other|bike on sidewalk....|         null|                null|https://seeclickf...| 1625105199|1625110071|           null|2021|   07| 01|\n",
       "|144512|Unconfirmed|Suspected Illegal...|Second level stai...|         null|                null|https://seeclickf...| 1625104983|1625110859|           null|2021|   07| 01|\n",
       "|144510|     Hazard|Illegal Vehicle o...|Dirt bikes and ot...|         null|                null|                null| 1625100461|1625108026|           null|2021|   07| 01|\n",
       "+------+-----------+--------------------+--------------------+-------------+--------------------+--------------------+-----------+----------+---------------+----+-----+---+"
      ]
     },
     "execution_count": 42,
     "metadata": {},
     "output_type": "execute_result"
    }
   ],
   "source": [
    "spark.sql(f'select * from {username}_bikewise_initial.incidents_initial')"
   ]
  },
  {
   "cell_type": "code",
   "execution_count": null,
   "id": "6def3102",
   "metadata": {},
   "outputs": [],
   "source": [
    "# %%sh\n",
    "\n",
    "# hdfs dfs -rm -r -skipTrash /user/${USER}/bikewise/final/"
   ]
  },
  {
   "cell_type": "code",
   "execution_count": null,
   "id": "5c936557",
   "metadata": {},
   "outputs": [],
   "source": [
    "# %%sh\n",
    "\n",
    "# hdfs dfs -ls -R /user/${USER}/warehouse/${USER}_bikewise_final.db"
   ]
  },
  {
   "cell_type": "code",
   "execution_count": null,
   "id": "23840c11",
   "metadata": {},
   "outputs": [],
   "source": [
    "spark.sql(f'show partitions {username}_bikewise_final.incidents_final').show(truncate = False)"
   ]
  },
  {
   "cell_type": "code",
   "execution_count": null,
   "id": "c9f35cb4",
   "metadata": {},
   "outputs": [],
   "source": [
    "spark.sql(f'select count(*) from {username}_bikewise_final.incidents_final')"
   ]
  },
  {
   "cell_type": "code",
   "execution_count": null,
   "id": "c2089cef",
   "metadata": {},
   "outputs": [],
   "source": [
    "# %%sh\n",
    "\n",
    "# hdfs dfs -ls -R /user/${USER}/${USER}_testing"
   ]
  },
  {
   "cell_type": "code",
   "execution_count": null,
   "id": "f8ecd50a",
   "metadata": {},
   "outputs": [],
   "source": []
  },
  {
   "cell_type": "markdown",
   "id": "5d659fb4",
   "metadata": {},
   "source": [
    "# testing for final db and use cases"
   ]
  },
  {
   "cell_type": "code",
   "execution_count": 10,
   "id": "ec0e1048",
   "metadata": {},
   "outputs": [],
   "source": [
    "from pyspark.sql.functions import *"
   ]
  },
  {
   "cell_type": "code",
   "execution_count": 11,
   "id": "36c825f2",
   "metadata": {},
   "outputs": [],
   "source": [
    "df_graph = spark.read.table(f'{username}_bikewise_initial.incidents_initial')"
   ]
  },
  {
   "cell_type": "code",
   "execution_count": 12,
   "id": "b0ce477a",
   "metadata": {},
   "outputs": [],
   "source": [
    "df = df_graph. \\\n",
    "select('id', 'type', 'occurred_at'). \\\n",
    "withColumn(\"incident_date\", from_unixtime('occurred_at', \"yyyy-MM-dd\")). \\\n",
    "groupBy(col('type')).\\\n",
    "count()"
   ]
  },
  {
   "cell_type": "code",
   "execution_count": 13,
   "id": "871f2115",
   "metadata": {},
   "outputs": [
    {
     "data": {
      "text/html": [
       "<table border='1'>\n",
       "<tr><th>type</th><th>count</th></tr>\n",
       "<tr><td>Hazard</td><td>14</td></tr>\n",
       "<tr><td>Theft</td><td>4</td></tr>\n",
       "<tr><td>Unconfirmed</td><td>5</td></tr>\n",
       "</table>\n"
      ],
      "text/plain": [
       "+-----------+-----+\n",
       "|       type|count|\n",
       "+-----------+-----+\n",
       "|     Hazard|   14|\n",
       "|      Theft|    4|\n",
       "|Unconfirmed|    5|\n",
       "+-----------+-----+"
      ]
     },
     "execution_count": 13,
     "metadata": {},
     "output_type": "execute_result"
    }
   ],
   "source": [
    "df"
   ]
  },
  {
   "cell_type": "code",
   "execution_count": 14,
   "id": "3d50ca9a",
   "metadata": {},
   "outputs": [],
   "source": [
    "df = df.select(col('type'), col('count').alias('number'))"
   ]
  },
  {
   "cell_type": "code",
   "execution_count": 15,
   "id": "b20978a2",
   "metadata": {},
   "outputs": [
    {
     "data": {
      "text/html": [
       "<table border='1'>\n",
       "<tr><th>type</th><th>number</th></tr>\n",
       "<tr><td>Hazard</td><td>14</td></tr>\n",
       "<tr><td>Theft</td><td>4</td></tr>\n",
       "<tr><td>Unconfirmed</td><td>5</td></tr>\n",
       "</table>\n"
      ],
      "text/plain": [
       "+-----------+------+\n",
       "|       type|number|\n",
       "+-----------+------+\n",
       "|     Hazard|    14|\n",
       "|      Theft|     4|\n",
       "|Unconfirmed|     5|\n",
       "+-----------+------+"
      ]
     },
     "execution_count": 15,
     "metadata": {},
     "output_type": "execute_result"
    }
   ],
   "source": [
    "df"
   ]
  },
  {
   "cell_type": "code",
   "execution_count": 16,
   "id": "d472d6ae",
   "metadata": {},
   "outputs": [],
   "source": [
    "import seaborn as sns\n",
    "import pandas as pd\n",
    "import matplotlib.pyplot as plt\n",
    "# import numpy as np"
   ]
  },
  {
   "cell_type": "code",
   "execution_count": 17,
   "id": "d369dfbb",
   "metadata": {},
   "outputs": [],
   "source": [
    "new_df = df.toPandas()"
   ]
  },
  {
   "cell_type": "code",
   "execution_count": 18,
   "id": "ac8b461e",
   "metadata": {},
   "outputs": [
    {
     "data": {
      "text/html": [
       "<div>\n",
       "<style scoped>\n",
       "    .dataframe tbody tr th:only-of-type {\n",
       "        vertical-align: middle;\n",
       "    }\n",
       "\n",
       "    .dataframe tbody tr th {\n",
       "        vertical-align: top;\n",
       "    }\n",
       "\n",
       "    .dataframe thead th {\n",
       "        text-align: right;\n",
       "    }\n",
       "</style>\n",
       "<table border=\"1\" class=\"dataframe\">\n",
       "  <thead>\n",
       "    <tr style=\"text-align: right;\">\n",
       "      <th></th>\n",
       "      <th>type</th>\n",
       "      <th>number</th>\n",
       "    </tr>\n",
       "  </thead>\n",
       "  <tbody>\n",
       "    <tr>\n",
       "      <th>0</th>\n",
       "      <td>Hazard</td>\n",
       "      <td>14</td>\n",
       "    </tr>\n",
       "    <tr>\n",
       "      <th>1</th>\n",
       "      <td>Theft</td>\n",
       "      <td>4</td>\n",
       "    </tr>\n",
       "    <tr>\n",
       "      <th>2</th>\n",
       "      <td>Unconfirmed</td>\n",
       "      <td>5</td>\n",
       "    </tr>\n",
       "  </tbody>\n",
       "</table>\n",
       "</div>"
      ],
      "text/plain": [
       "          type  number\n",
       "0       Hazard      14\n",
       "1        Theft       4\n",
       "2  Unconfirmed       5"
      ]
     },
     "execution_count": 18,
     "metadata": {},
     "output_type": "execute_result"
    }
   ],
   "source": [
    "new_df"
   ]
  },
  {
   "cell_type": "code",
   "execution_count": 19,
   "id": "0119f863",
   "metadata": {},
   "outputs": [],
   "source": [
    "\n",
    "\n",
    "# x = [val.type for val in df.select('type').collect()]\n",
    "# y = [val.number for val in df.select('number').collect()]"
   ]
  },
  {
   "cell_type": "code",
   "execution_count": 20,
   "id": "3dd876b9",
   "metadata": {},
   "outputs": [],
   "source": [
    "# x"
   ]
  },
  {
   "cell_type": "code",
   "execution_count": 21,
   "id": "e4342bd3",
   "metadata": {},
   "outputs": [],
   "source": [
    "# fig = plt.figure()\n",
    "# ax = fig.add_axes([0,0,1,1])\n",
    "\n",
    "# ax.bar(x,y,width = 0.3)\n",
    "# ax.set_ylabel('Count')\n",
    "# ax.set_title('Count by incident type')\n",
    "# ax.legend(labels = x, loc='upper right')\n",
    "# plt.show()"
   ]
  },
  {
   "cell_type": "code",
   "execution_count": 22,
   "id": "eaa8acd1",
   "metadata": {},
   "outputs": [
    {
     "data": {
      "image/png": "[encoded data removed]",
      "text/plain": [
       "<Figure size 576x432 with 1 Axes>"
      ]
     },
     "metadata": {
      "needs_background": "light"
     },
     "output_type": "display_data"
    }
   ],
   "source": [
    "plt.figure(figsize=(8, 6))\n",
    "splot=sns.barplot(x=\"type\",y=\"number\",data=new_df)\n",
    "for p in splot.patches:\n",
    "    splot.annotate(format(p.get_height(), '.1f'), \n",
    "                   (p.get_x() + p.get_width() / 2., p.get_height()), \n",
    "                   ha = 'center', va = 'center', \n",
    "                   xytext = (0, 9), \n",
    "                   textcoords = 'offset points')\n",
    "plt.xlabel(\"Type of incident\", size=14)\n",
    "plt.ylabel(\"Count\", size=14)\n",
    "plt.title(\"Count of incidents\")\n",
    "plt.savefig(\"Seaborn_Python.pdf\")\n"
   ]
  },
  {
   "cell_type": "code",
   "execution_count": null,
   "id": "62c93568",
   "metadata": {},
   "outputs": [],
   "source": []
  }
 ],
 "metadata": {
  "kernelspec": {
   "display_name": "Pyspark 2",
   "language": "python",
   "name": "pyspark2"
  },
  "language_info": {
   "codemirror_mode": {
    "name": "ipython",
    "version": 3
   },
   "file_extension": ".py",
   "mimetype": "text/x-python",
   "name": "python",
   "nbconvert_exporter": "python",
   "pygments_lexer": "ipython3",
   "version": "3.6.12"
  }
 },
 "nbformat": 4,
 "nbformat_minor": 5
}
